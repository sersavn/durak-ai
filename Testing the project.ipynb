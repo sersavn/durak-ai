{
 "cells": [
  {
   "cell_type": "markdown",
   "metadata": {},
   "source": [
    "### 1. durak_ai.py\n",
    "\n",
    "Contains logic for implemented AI players"
   ]
  },
  {
   "cell_type": "code",
   "execution_count": null,
   "metadata": {},
   "outputs": [],
   "source": [
    "import durak_ai\n",
    "help(durak_ai)"
   ]
  },
  {
   "cell_type": "markdown",
   "metadata": {},
   "source": [
    "### 2. game_mechanics.py"
   ]
  },
  {
   "cell_type": "code",
   "execution_count": null,
   "metadata": {},
   "outputs": [],
   "source": [
    "import game_mechanics\n",
    "help(game_mechanics)"
   ]
  },
  {
   "cell_type": "markdown",
   "metadata": {},
   "source": [
    "### 3. player.py "
   ]
  },
  {
   "cell_type": "code",
   "execution_count": null,
   "metadata": {},
   "outputs": [],
   "source": [
    "import player\n",
    "help(player)"
   ]
  },
  {
   "cell_type": "markdown",
   "metadata": {},
   "source": [
    "### 4. game.py"
   ]
  },
  {
   "cell_type": "code",
   "execution_count": 1,
   "metadata": {
    "scrolled": true
   },
   "outputs": [
    {
     "name": "stdout",
     "output_type": "stream",
     "text": [
      "Help on module game:\n",
      "\n",
      "NAME\n",
      "    game\n",
      "\n",
      "CLASSES\n",
      "    builtins.object\n",
      "        Game\n",
      "    \n",
      "    class Game(builtins.object)\n",
      "     |  Game(players_list)\n",
      "     |  \n",
      "     |  Methods defined here:\n",
      "     |  \n",
      "     |  __init__(self, players_list)\n",
      "     |      Initialize self.  See help(type(self)) for accurate signature.\n",
      "     |  \n",
      "     |  ----------------------------------------------------------------------\n",
      "     |  Data descriptors defined here:\n",
      "     |  \n",
      "     |  __dict__\n",
      "     |      dictionary for instance variables (if defined)\n",
      "     |  \n",
      "     |  __weakref__\n",
      "     |      list of weak references to the object (if defined)\n",
      "\n",
      "FUNCTIONS\n",
      "    play_game(list_of_players, logger=None)\n",
      "\n",
      "DATA\n",
      "    fh = <FileHandler D:\\WorkData\\Projects\\Durak_Ai\\game.log (NOTSET)>\n",
      "    logger = <Logger logging_games (INFO)>\n",
      "    p1 = <durak_ai.AIPlayerDumb object>\n",
      "    p2 = <durak_ai.AIPlayerDumb object>\n",
      "    players_list = [<durak_ai.AIPlayerDumb object>, <durak_ai.AIPlayerDumb...\n",
      "\n",
      "FILE\n",
      "    d:\\workdata\\projects\\durak_ai\\game.py\n",
      "\n",
      "\n"
     ]
    }
   ],
   "source": [
    "import game\n",
    "help(game)"
   ]
  },
  {
   "cell_type": "code",
   "execution_count": 2,
   "metadata": {},
   "outputs": [
    {
     "name": "stdout",
     "output_type": "stream",
     "text": [
      "<game_mechanics.Deck object at 0x000001EEC047C248>\n",
      "<class 'ValueError'>\n",
      "<class 'ValueError'>\n",
      "\n",
      "\n",
      "round 0\n",
      "atk 6\n",
      "def 6\n",
      "deck 24\n",
      "EVA attack with [14, 3]\n",
      "VALL E can't defend\n",
      "table: [[14, 3]]\n",
      "_first_stage no options for defender\n",
      "\n",
      "\n",
      "round 1\n",
      "atk 6\n",
      "def 7\n",
      "deck 23\n",
      "EVA attack with [6, 0]\n",
      "VALL E can't defend\n",
      "table: [[6, 0]]\n",
      "_first_stage no options for defender\n",
      "\n",
      "\n",
      "round 2\n",
      "atk 6\n",
      "def 8\n",
      "deck 22\n",
      "EVA attack with [7, 3]\n",
      "VALL E defended with [12, 3]\n",
      "EVA no cards to add\n",
      "table: [[7, 3], [12, 3]]\n",
      "_seсond_stage no options for attacker\n",
      "\n",
      "\n",
      "round 3\n",
      "atk 7\n",
      "def 6\n",
      "deck 21\n",
      "VALL E attack with [12, 1]\n",
      "EVA defended with [14, 0]\n",
      "VALL E adding card [12, 2]\n",
      "EVA defended with [11, 0]\n",
      "VALL E adding card [14, 3]\n",
      "EVA defended with [9, 0]\n",
      "VALL E no cards to add\n",
      "table: [[12, 1], [14, 0], [12, 2], [11, 0], [14, 3], [9, 0]]\n",
      "_seсond_stage no options for attacker\n",
      "\n",
      "\n",
      "round 4\n",
      "atk 6\n",
      "def 6\n",
      "deck 16\n",
      "EVA attack with [9, 1]\n",
      "VALL E defended with [10, 0]\n",
      "EVA adding card [9, 3]\n",
      "VALL E defended with [6, 0]\n",
      "EVA adding card [6, 3]\n",
      "VALL E can't defend\n",
      "table: [[9, 1], [10, 0], [9, 3], [6, 0], [6, 3]]\n",
      "_second_stage no options for defender\n",
      "\n",
      "\n",
      "round 5\n",
      "atk 6\n",
      "def 9\n",
      "deck 13\n",
      "EVA attack with [6, 2]\n",
      "VALL E defended with [10, 2]\n",
      "EVA adding card [10, 3]\n",
      "VALL E defended with [6, 0]\n",
      "EVA no cards to add\n",
      "table: [[6, 2], [10, 2], [10, 3], [6, 0]]\n",
      "_seсond_stage no options for attacker\n",
      "\n",
      "\n",
      "round 6\n",
      "atk 7\n",
      "def 6\n",
      "deck 11\n",
      "VALL E attack with [8, 1]\n",
      "EVA defended with [13, 1]\n",
      "VALL E adding card [8, 2]\n",
      "EVA defended with [13, 2]\n",
      "VALL E no cards to add\n",
      "table: [[8, 1], [13, 1], [8, 2], [13, 2]]\n",
      "_seсond_stage no options for attacker\n",
      "\n",
      "\n",
      "round 7\n",
      "atk 6\n",
      "def 6\n",
      "deck 8\n",
      "EVA attack with [11, 3]\n",
      "VALL E defended with [13, 0]\n",
      "EVA adding card [13, 3]\n",
      "VALL E defended with [10, 0]\n",
      "EVA no cards to add\n",
      "table: [[11, 3], [13, 0], [13, 3], [10, 0]]\n",
      "_seсond_stage no options for attacker\n",
      "\n",
      "\n",
      "round 8\n",
      "atk 6\n",
      "def 6\n",
      "deck 4\n",
      "VALL E attack with [8, 3]\n",
      "EVA defended with [12, 0]\n",
      "VALL E no cards to add\n",
      "table: [[8, 3], [12, 0]]\n",
      "_seсond_stage no options for attacker\n",
      "\n",
      "\n",
      "round 9\n",
      "atk 6\n",
      "def 6\n",
      "deck 2\n",
      "EVA attack with [6, 1]\n",
      "VALL E defended with [9, 1]\n",
      "EVA adding card [9, 2]\n",
      "VALL E defended with [11, 2]\n",
      "EVA no cards to add\n",
      "table: [[6, 1], [9, 1], [9, 2], [11, 2]]\n",
      "_seсond_stage no options for attacker\n",
      "\n",
      "\n",
      "round 10\n",
      "atk 4\n",
      "def 6\n",
      "deck 0\n",
      "VALL E attack with [9, 3]\n",
      "EVA defended with [7, 0]\n",
      "VALL E no cards to add\n",
      "table: [[9, 3], [7, 0]]\n",
      "_seсond_stage no options for attacker\n",
      "\n",
      "\n",
      "round 11\n",
      "atk 5\n",
      "def 3\n",
      "deck 0\n",
      "EVA attack with [8, 0]\n",
      "VALL E can't defend\n",
      "table: [[8, 0]]\n",
      "_first_stage no options for defender\n",
      "\n",
      "\n",
      "round 12\n",
      "atk 4\n",
      "def 4\n",
      "deck 0\n",
      "EVA attack with [7, 2]\n",
      "VALL E defended with [8, 0]\n",
      "EVA adding card [7, 1]\n",
      "VALL E defended with [10, 1]\n",
      "EVA no cards to add\n",
      "table: [[7, 2], [8, 0], [7, 1], [10, 1]]\n",
      "_seсond_stage no options for attacker\n",
      "\n",
      "\n",
      "round 13\n",
      "atk 2\n",
      "def 2\n",
      "deck 0\n",
      "VALL E attack with [6, 3]\n",
      "EVA can't defend\n",
      "table: [[6, 3]]\n",
      "_first_stage no options for defender\n",
      "\n",
      "\n",
      "round 14\n",
      "atk 1\n",
      "def 3\n",
      "deck 0\n",
      "VALL E attack with [14, 1]\n",
      "EVA can't defend\n",
      "table: [[14, 1]]\n",
      "_first_stage no options for defender\n",
      "\n",
      "\n",
      "round 15\n",
      "VALL E\n"
     ]
    }
   ],
   "source": [
    "game.play_game([game.p1, game.p2])"
   ]
  },
  {
   "cell_type": "code",
   "execution_count": null,
   "metadata": {},
   "outputs": [],
   "source": [
    "stop"
   ]
  },
  {
   "cell_type": "markdown",
   "metadata": {},
   "source": [
    "## Usefull Links"
   ]
  },
  {
   "cell_type": "markdown",
   "metadata": {},
   "source": [
    "http://cs229.stanford.edu/proj2013/Learning%20Game%20Playing%20Strategy%20for%20Durak_SN%20&%20NT.pdf"
   ]
  },
  {
   "cell_type": "markdown",
   "metadata": {},
   "source": [
    "https://pdfs.semanticscholar.org/4948/d15bae036cd866452b2c8e6cd8cbd2ad9ecc.pdf"
   ]
  },
  {
   "cell_type": "markdown",
   "metadata": {},
   "source": [
    "Building a No Limit Texas Hold'em Poker Agent Based on Game Logs Using Supervised Learning"
   ]
  },
  {
   "cell_type": "markdown",
   "metadata": {},
   "source": [
    "### Creation of the durak card game agent based on supervised/unsupervised learning"
   ]
  }
 ],
 "metadata": {
  "kernelspec": {
   "display_name": "Python 3",
   "language": "python",
   "name": "python3"
  },
  "language_info": {
   "codemirror_mode": {
    "name": "ipython",
    "version": 3
   },
   "file_extension": ".py",
   "mimetype": "text/x-python",
   "name": "python",
   "nbconvert_exporter": "python",
   "pygments_lexer": "ipython3",
   "version": "3.7.7"
  }
 },
 "nbformat": 4,
 "nbformat_minor": 2
}
